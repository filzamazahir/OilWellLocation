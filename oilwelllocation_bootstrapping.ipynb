{
 "cells": [
  {
   "cell_type": "markdown",
   "metadata": {},
   "source": [
    "# OilyGiant - New Well Location"
   ]
  },
  {
   "cell_type": "markdown",
   "metadata": {},
   "source": [
    "## Introduction\n",
    "\n",
    "The purpose of this project is to find the best place for a new well for the OilyGiant company. We have data for three different regions, and based on that we will build a model for predicting the volume of reserves in the new wells. The region with the highest estimated values and highest total profit and lowest risk of loss will be selected."
   ]
  },
  {
   "cell_type": "markdown",
   "metadata": {},
   "source": [
    "## Prepare Data"
   ]
  },
  {
   "cell_type": "code",
   "execution_count": 1,
   "metadata": {},
   "outputs": [],
   "source": [
    "# Import Libraries\n",
    "\n",
    "import pandas as pd\n",
    "import numpy as np\n",
    "from sklearn.model_selection import train_test_split\n",
    "from sklearn.linear_model import LinearRegression\n",
    "from sklearn.metrics import mean_squared_error\n",
    "from numpy.random import RandomState\n",
    "from matplotlib import pyplot as plt\n",
    "from sklearn.preprocessing import StandardScaler"
   ]
  },
  {
   "cell_type": "code",
   "execution_count": 2,
   "metadata": {},
   "outputs": [],
   "source": [
    "# Download dataset\n",
    "\n",
    "# Region 0\n",
    "data_0 = pd.read_csv('/datasets/geo_data_0.csv')\n",
    "\n",
    "# Region 1\n",
    "data_1 = pd.read_csv('/datasets/geo_data_1.csv')\n",
    "\n",
    "# Region 2\n",
    "data_2 = pd.read_csv('/datasets/geo_data_2.csv')"
   ]
  },
  {
   "cell_type": "code",
   "execution_count": 3,
   "metadata": {},
   "outputs": [
    {
     "name": "stdout",
     "output_type": "stream",
     "text": [
      "<class 'pandas.core.frame.DataFrame'>\n",
      "RangeIndex: 100000 entries, 0 to 99999\n",
      "Data columns (total 5 columns):\n",
      " #   Column   Non-Null Count   Dtype  \n",
      "---  ------   --------------   -----  \n",
      " 0   id       100000 non-null  object \n",
      " 1   f0       100000 non-null  float64\n",
      " 2   f1       100000 non-null  float64\n",
      " 3   f2       100000 non-null  float64\n",
      " 4   product  100000 non-null  float64\n",
      "dtypes: float64(4), object(1)\n",
      "memory usage: 3.8+ MB\n",
      "None\n",
      "<class 'pandas.core.frame.DataFrame'>\n",
      "RangeIndex: 100000 entries, 0 to 99999\n",
      "Data columns (total 5 columns):\n",
      " #   Column   Non-Null Count   Dtype  \n",
      "---  ------   --------------   -----  \n",
      " 0   id       100000 non-null  object \n",
      " 1   f0       100000 non-null  float64\n",
      " 2   f1       100000 non-null  float64\n",
      " 3   f2       100000 non-null  float64\n",
      " 4   product  100000 non-null  float64\n",
      "dtypes: float64(4), object(1)\n",
      "memory usage: 3.8+ MB\n",
      "None\n",
      "<class 'pandas.core.frame.DataFrame'>\n",
      "RangeIndex: 100000 entries, 0 to 99999\n",
      "Data columns (total 5 columns):\n",
      " #   Column   Non-Null Count   Dtype  \n",
      "---  ------   --------------   -----  \n",
      " 0   id       100000 non-null  object \n",
      " 1   f0       100000 non-null  float64\n",
      " 2   f1       100000 non-null  float64\n",
      " 3   f2       100000 non-null  float64\n",
      " 4   product  100000 non-null  float64\n",
      "dtypes: float64(4), object(1)\n",
      "memory usage: 3.8+ MB\n",
      "None\n"
     ]
    }
   ],
   "source": [
    "# Check data types \n",
    "\n",
    "print(data_0.info())\n",
    "print(data_1.info())\n",
    "print(data_2.info())"
   ]
  },
  {
   "cell_type": "code",
   "execution_count": 4,
   "metadata": {},
   "outputs": [
    {
     "name": "stdout",
     "output_type": "stream",
     "text": [
      "id         0\n",
      "f0         0\n",
      "f1         0\n",
      "f2         0\n",
      "product    0\n",
      "dtype: int64\n",
      "id         0\n",
      "f0         0\n",
      "f1         0\n",
      "f2         0\n",
      "product    0\n",
      "dtype: int64\n",
      "id         0\n",
      "f0         0\n",
      "f1         0\n",
      "f2         0\n",
      "product    0\n",
      "dtype: int64\n"
     ]
    }
   ],
   "source": [
    "# Check for missing values\n",
    "\n",
    "print(data_0.isna().sum())\n",
    "print(data_1.isna().sum())\n",
    "print(data_2.isna().sum())"
   ]
  },
  {
   "cell_type": "code",
   "execution_count": 5,
   "metadata": {},
   "outputs": [
    {
     "name": "stdout",
     "output_type": "stream",
     "text": [
      "0\n",
      "0\n",
      "0\n"
     ]
    }
   ],
   "source": [
    "# Check for duplicate values\n",
    "\n",
    "print(data_0.duplicated().sum())\n",
    "print(data_1.duplicated().sum())\n",
    "print(data_2.duplicated().sum())"
   ]
  },
  {
   "cell_type": "code",
   "execution_count": 6,
   "metadata": {},
   "outputs": [
    {
     "name": "stdout",
     "output_type": "stream",
     "text": [
      "10\n",
      "4\n",
      "4\n"
     ]
    }
   ],
   "source": [
    "# Check for duplicates in the id column\n",
    "\n",
    "print(data_0['id'].duplicated().sum())\n",
    "print(data_1['id'].duplicated().sum())\n",
    "print(data_2['id'].duplicated().sum())"
   ]
  },
  {
   "cell_type": "markdown",
   "metadata": {},
   "source": [
    "There are some duplicates in the id column. Given the large dataset, and the small number of duplicates, it makes sense to just drop them."
   ]
  },
  {
   "cell_type": "code",
   "execution_count": 7,
   "metadata": {},
   "outputs": [],
   "source": [
    "# Drop duplicates from the id column\n",
    "\n",
    "data_0 = data_0.drop_duplicates(subset=['id'], keep='last')\n",
    "data_1 = data_1.drop_duplicates(subset=['id'], keep='last')\n",
    "data_2 = data_2.drop_duplicates(subset=['id'], keep='last')"
   ]
  },
  {
   "cell_type": "code",
   "execution_count": 8,
   "metadata": {},
   "outputs": [
    {
     "name": "stdout",
     "output_type": "stream",
     "text": [
      "0\n",
      "0\n",
      "0\n"
     ]
    }
   ],
   "source": [
    "# Confirm all duplicates in id column are deleted\n",
    "\n",
    "print(data_0['id'].duplicated().sum())\n",
    "print(data_1['id'].duplicated().sum())\n",
    "print(data_2['id'].duplicated().sum())"
   ]
  },
  {
   "cell_type": "markdown",
   "metadata": {},
   "source": [
    "### Exploratory Data Analysis"
   ]
  },
  {
   "cell_type": "code",
   "execution_count": 9,
   "metadata": {},
   "outputs": [
    {
     "data": {
      "image/png": "[encoded data removed]",
      "text/plain": [
       "<Figure size 640x480 with 1 Axes>"
      ]
     },
     "metadata": {},
     "output_type": "display_data"
    },
    {
     "data": {
      "image/png": "[encoded data removed]",
      "text/plain": [
       "<Figure size 640x480 with 1 Axes>"
      ]
     },
     "metadata": {},
     "output_type": "display_data"
    },
    {
     "data": {
      "image/png": "[encoded data removed]",
      "text/plain": [
       "<Figure size 640x480 with 1 Axes>"
      ]
     },
     "metadata": {},
     "output_type": "display_data"
    }
   ],
   "source": [
    "# Plot some graphs to see distribution of data\n",
    "\n",
    "# Region 0\n",
    "data_0['f0'].plot( kind = 'hist',\n",
    "                   alpha=0.6)\n",
    "data_0['f1'].plot( kind = 'hist',\n",
    "                   alpha=0.2)\n",
    "data_0['f2'].plot( kind = 'hist',\n",
    "                   alpha=0.2)\n",
    "plt.legend(['f0', 'f1', 'f2'])\n",
    "plt.title('Distribution of features - Region 0')\n",
    "plt.show()\n",
    "\n",
    "\n",
    "# Region 1\n",
    "data_1['f0'].plot( kind = 'hist',\n",
    "                   alpha=0.6)\n",
    "data_1['f1'].plot( kind = 'hist',\n",
    "                   alpha=0.2)\n",
    "data_1['f2'].plot( kind = 'hist',\n",
    "                   alpha=0.2)\n",
    "plt.legend(['f0', 'f1', 'f2'])\n",
    "plt.title('Distribution of features - Region 1')\n",
    "plt.show()\n",
    "\n",
    "\n",
    "# Region 2\n",
    "data_2['f0'].plot( kind = 'hist',\n",
    "                   alpha=0.6)\n",
    "data_2['f1'].plot( kind = 'hist',\n",
    "                   alpha=0.2)\n",
    "data_2['f2'].plot( kind = 'hist',\n",
    "                   alpha=0.2)\n",
    "plt.legend(['f0', 'f1', 'f2'])\n",
    "plt.title('Distribution of features - Region 2')\n",
    "plt.show()"
   ]
  },
  {
   "cell_type": "markdown",
   "metadata": {},
   "source": [
    "Based on the above graphs, it can be seen that the features in Region 0 and Region 1 should be scaled, whereas the features data in Region 2 seem to be evenly distributed so no data scaling is required."
   ]
  },
  {
   "cell_type": "markdown",
   "metadata": {},
   "source": [
    "## Train Model"
   ]
  },
  {
   "cell_type": "markdown",
   "metadata": {},
   "source": [
    "### Region 0"
   ]
  },
  {
   "cell_type": "code",
   "execution_count": 10,
   "metadata": {},
   "outputs": [],
   "source": [
    "# Separate features and target\n",
    "target_0 = data_0['product']\n",
    "features_0 = data_0.drop(['id','product'], axis=1)\n",
    "\n",
    "# Split data into training 70% and validation/test 25% set\n",
    "features_train_0, features_valid_0, target_train_0, target_valid_0 = train_test_split(\n",
    "    features_0, target_0, \n",
    "    test_size=0.25, random_state=12345)"
   ]
  },
  {
   "cell_type": "code",
   "execution_count": 11,
   "metadata": {},
   "outputs": [],
   "source": [
    "# Data Scaling\n",
    "scaler = StandardScaler()\n",
    "scaler.fit(features_train_0)\n",
    "features_train_0 = scaler.transform(features_train_0)\n",
    "features_valid_0 = scaler.transform(features_valid_0)"
   ]
  },
  {
   "cell_type": "code",
   "execution_count": 12,
   "metadata": {},
   "outputs": [
    {
     "name": "stdout",
     "output_type": "stream",
     "text": [
      "Average volume of predicted reserves for Region 0: 92.595815339811\n",
      "Average volume of targeted reserves for Region 0: 92.34784935243168\n",
      "RMSE for Region 0: 37.92658327086352\n"
     ]
    }
   ],
   "source": [
    "model = LinearRegression()\n",
    "\n",
    "# Train the model using the training sets then make predictions\n",
    "model.fit(features_train_0, target_train_0)\n",
    "predicted_valid_0 = model.predict(features_valid_0)\n",
    "\n",
    "avg_volume_0 = predicted_valid_0.mean()\n",
    "print('Average volume of predicted reserves for Region 0:', avg_volume_0)\n",
    "\n",
    "print('Average volume of targeted reserves for Region 0:', target_valid_0.mean())\n",
    "\n",
    "mse = mean_squared_error(target_valid_0, predicted_valid_0)\n",
    "rmse = mse ** 0.5\n",
    "print('RMSE for Region 0:', rmse)"
   ]
  },
  {
   "cell_type": "markdown",
   "metadata": {},
   "source": [
    "### Region 1"
   ]
  },
  {
   "cell_type": "code",
   "execution_count": 13,
   "metadata": {},
   "outputs": [],
   "source": [
    "# Separate features and target\n",
    "target_1 = data_1['product']\n",
    "features_1 = data_1.drop(['id','product'], axis=1)\n",
    "\n",
    "# Split data into training 70% and validation/test 25% set\n",
    "features_train_1, features_valid_1, target_train_1, target_valid_1 = train_test_split(\n",
    "    features_1, target_1, \n",
    "    test_size=0.25, random_state=12345)"
   ]
  },
  {
   "cell_type": "code",
   "execution_count": 14,
   "metadata": {},
   "outputs": [],
   "source": [
    "# Data Scaling\n",
    "scaler = StandardScaler()\n",
    "scaler.fit(features_train_1)\n",
    "features_train_1 = scaler.transform(features_train_1)\n",
    "features_valid_1 = scaler.transform(features_valid_1)"
   ]
  },
  {
   "cell_type": "code",
   "execution_count": 15,
   "metadata": {},
   "outputs": [
    {
     "name": "stdout",
     "output_type": "stream",
     "text": [
      "Average volume of predicted reserves for Region 1: 68.52866705781803\n",
      "Average volume of targeted reserves for Region 1: 68.53697799242255\n",
      "RMSE for Region 1: 0.8877441757012706\n"
     ]
    }
   ],
   "source": [
    "model = LinearRegression()\n",
    "\n",
    "# Train the model using the training sets then make predictions\n",
    "model.fit(features_train_1, target_train_1)\n",
    "predicted_valid_1 = model.predict(features_valid_1)\n",
    "\n",
    "avg_volume_1 = predicted_valid_1.mean()\n",
    "print('Average volume of predicted reserves for Region 1:', avg_volume_1)\n",
    "\n",
    "print('Average volume of targeted reserves for Region 1:', target_valid_1.mean())\n",
    "\n",
    "\n",
    "mse = mean_squared_error(target_valid_1, predicted_valid_1)\n",
    "rmse = mse ** 0.5\n",
    "print('RMSE for Region 1:', rmse)"
   ]
  },
  {
   "cell_type": "markdown",
   "metadata": {},
   "source": [
    "### Region 2"
   ]
  },
  {
   "cell_type": "code",
   "execution_count": 16,
   "metadata": {},
   "outputs": [],
   "source": [
    "# Separate features and target\n",
    "target_2 = data_2['product']\n",
    "features_2 = data_2.drop(['id','product'], axis=1)\n",
    "\n",
    "# Split data into training 70% and validation/test 25% set\n",
    "features_train_2, features_valid_2, target_train_2, target_valid_2 = train_test_split(\n",
    "    features_2, target_2, \n",
    "    test_size=0.25, random_state=12345)"
   ]
  },
  {
   "cell_type": "code",
   "execution_count": 17,
   "metadata": {},
   "outputs": [
    {
     "name": "stdout",
     "output_type": "stream",
     "text": [
      "Average volume of predicted reserves for Region 2: 94.93593212204372\n",
      "Average volume of targeted reserves for Region 2: 94.56578475991805\n",
      "RMSE for Region 2: 40.18554498370539\n"
     ]
    }
   ],
   "source": [
    "model = LinearRegression()\n",
    "\n",
    "# Train the model using the training sets then make predictions\n",
    "model.fit(features_train_2, target_train_2)\n",
    "predicted_valid_2 = model.predict(features_valid_2)\n",
    "\n",
    "avg_volume_2 = predicted_valid_2.mean()\n",
    "print('Average volume of predicted reserves for Region 2:', avg_volume_2)\n",
    "\n",
    "print('Average volume of targeted reserves for Region 2:', target_valid_2.mean())\n",
    "\n",
    "mse = mean_squared_error(target_valid_2, predicted_valid_2)\n",
    "rmse = mse ** 0.5\n",
    "print('RMSE for Region 2:', rmse)"
   ]
  },
  {
   "cell_type": "markdown",
   "metadata": {},
   "source": [
    "Based on the predictions and average volume of oil reserves, Region 0 and Region 2 are better as the wells there will have an average volume of 92.59 and 94.965 respectively. The predicted averages are very close to the target value average. On the other hand the RMSE for Region 0 and 2 are high so this does not give as clear a picture, and is based on just the average of volume of oil reserves. Profit calculations will give a better idea as to which region will be more profitable.\n"
   ]
  },
  {
   "cell_type": "markdown",
   "metadata": {},
   "source": [
    "## Prepare for Profit Calculation"
   ]
  },
  {
   "cell_type": "code",
   "execution_count": 18,
   "metadata": {},
   "outputs": [
    {
     "name": "stdout",
     "output_type": "stream",
     "text": [
      "Min volume needed to break even: 111.11111111111111\n"
     ]
    }
   ],
   "source": [
    "no_of_wells = 200\n",
    "total_budget = 100000000\n",
    "budget_per_well = total_budget/no_of_wells\n",
    "\n",
    "revenue_per_unit_product = 4500\n",
    "\n",
    "min_volume_needed = budget_per_well/revenue_per_unit_product\n",
    "print('Min volume needed to break even:', min_volume_needed)"
   ]
  },
  {
   "cell_type": "code",
   "execution_count": 19,
   "metadata": {},
   "outputs": [
    {
     "name": "stdout",
     "output_type": "stream",
     "text": [
      "Average volume of reserve in Region 0: 92.49948184460142\n",
      "Average volume of reserve in Region 0: 68.82523184270339\n",
      "Average volume of reserve in Region 0: 95.00042479767433\n"
     ]
    }
   ],
   "source": [
    "# Average volume of reserves in each region\n",
    "\n",
    "print('Average volume of reserve in Region 0:', data_0['product'].mean())\n",
    "print('Average volume of reserve in Region 0:', data_1['product'].mean())\n",
    "print('Average volume of reserve in Region 0:', data_2['product'].mean())"
   ]
  },
  {
   "cell_type": "markdown",
   "metadata": {},
   "source": [
    "Based on the budget for each well and revenue per unit product, each oil well should have a resrve of 111.11 to make it profitable. This is higher than the average for volume reserves obtained earlier, and also higher than the actual average volume in each region currently, which shows we need to dive deeper into this instead of just looking at the average volume."
   ]
  },
  {
   "cell_type": "markdown",
   "metadata": {},
   "source": [
    "## Calculate Profit"
   ]
  },
  {
   "cell_type": "code",
   "execution_count": 20,
   "metadata": {},
   "outputs": [],
   "source": [
    "# Function to calculate profit\n",
    "\n",
    "def calculate_profit(predictions, targets, n_wells=200): \n",
    "    sorted_indices = np.argsort(predictions)[-n_wells:] # Get indices of the top 200 predictions\n",
    "    selected_reserves = targets.iloc[sorted_indices]\n",
    "    total_reserves = selected_reserves.sum()\n",
    "    profit = (total_reserves * 4.5) - 100000  # Convert to thousand dollars\n",
    "    return profit\n"
   ]
  },
  {
   "cell_type": "code",
   "execution_count": 21,
   "metadata": {},
   "outputs": [
    {
     "name": "stdout",
     "output_type": "stream",
     "text": [
      "Profit Region 0: 29900.85\n",
      "Profit Region 1: 24150.87\n",
      "Profit Region 2: 24262.1\n"
     ]
    }
   ],
   "source": [
    "# Calculate Profit for each region\n",
    "\n",
    "#Region 0\n",
    "profit_0 = calculate_profit(predicted_valid_0, target_valid_0)\n",
    "print('Profit Region 0:', round(profit_0,2))\n",
    "\n",
    "#Region 1\n",
    "profit_1 = calculate_profit(predicted_valid_1, target_valid_1)\n",
    "print('Profit Region 1:', round(profit_1,2))\n",
    "\n",
    "#Region 2\n",
    "profit_2 = calculate_profit(predicted_valid_2, target_valid_2)\n",
    "print('Profit Region 2:', round(profit_2,2))"
   ]
  },
  {
   "cell_type": "markdown",
   "metadata": {},
   "source": [
    "Based on the profits calculated above for the top 200 points, Region 0 is most suited for well development. It yielded the higest profit compared to Region 1 and 2."
   ]
  },
  {
   "cell_type": "markdown",
   "metadata": {},
   "source": [
    "## Risks and Profits of each region"
   ]
  },
  {
   "cell_type": "markdown",
   "metadata": {},
   "source": [
    "After the risk evaluation, keep only the regions with the risk of losses lower than 2.5%. From the ones that fit the criteria, the region with the highest average profit should be selected."
   ]
  },
  {
   "cell_type": "code",
   "execution_count": 22,
   "metadata": {},
   "outputs": [],
   "source": [
    "# Function to calculate profit based on bootstrapping (the n_samples is 500 to sample 500 rows) \n",
    "\n",
    "def bootstrap_profit(predictions, targets, n_wells=200, n_samples=1000, seed=42):\n",
    "    rng = RandomState(seed)\n",
    "    profits = []\n",
    "\n",
    "    for _ in range(n_samples):\n",
    "        sample_indices = rng.choice(predictions.size, size=500, replace=True)\n",
    "        sample_predictions = predictions[sample_indices]\n",
    "        sample_targets = targets.iloc[sample_indices]\n",
    "        profit = calculate_profit(sample_predictions, sample_targets, n_wells)\n",
    "        profits.append(profit)\n",
    "\n",
    "    profits = np.array(profits)\n",
    "    return profits\n",
    "\n",
    "# Profits based on bootstrapping for each region\n",
    "profits_0 = bootstrap_profit(predicted_valid_0, target_valid_0)\n",
    "profits_1 = bootstrap_profit(predicted_valid_1, target_valid_1)\n",
    "profits_2 = bootstrap_profit(predicted_valid_2, target_valid_2)"
   ]
  },
  {
   "cell_type": "code",
   "execution_count": 23,
   "metadata": {},
   "outputs": [
    {
     "name": "stdout",
     "output_type": "stream",
     "text": [
      "Region 0 - Avg Profit: 4146500.2662595245, CI: [-557.25085998 9187.37613426], Risk: 5.5%\n",
      "Region 1 - Avg Profit: 4445759.541525198, CI: [ 431.67589326 8280.33073933], Risk: 1.5%\n",
      "Region 2 - Avg Profit: 3199438.9457635973, CI: [-1926.39377831  8575.35544408], Risk: 13.0%\n"
     ]
    }
   ],
   "source": [
    "# Function to analyze profits determined through bootstrapping for its confidence interval and risk of loss \n",
    "\n",
    "def analyze_profits(profits):\n",
    "    avg_profit = profits.mean() * 1000\n",
    "    confidence_interval = np.percentile(profits, [2.5, 97.5])\n",
    "    risk_of_loss = (profits < 0).mean() * 100  # Percentage\n",
    "    return avg_profit, confidence_interval, risk_of_loss\n",
    "\n",
    "avg_profit_0, ci_0, risk_0 = analyze_profits(profits_0)\n",
    "avg_profit_1, ci_1, risk_1 = analyze_profits(profits_1)\n",
    "avg_profit_2, ci_2, risk_2 = analyze_profits(profits_2)\n",
    "\n",
    "print(f\"Region 0 - Avg Profit: {avg_profit_0}, CI: {ci_0}, Risk: {risk_0}%\")\n",
    "print(f\"Region 1 - Avg Profit: {avg_profit_1}, CI: {ci_1}, Risk: {risk_1}%\")\n",
    "print(f\"Region 2 - Avg Profit: {avg_profit_2}, CI: {ci_2}, Risk: {risk_2}%\")"
   ]
  },
  {
   "cell_type": "markdown",
   "metadata": {},
   "source": [
    "Based on the above calculations from the bootstrapping bethod, Region 1 has the highest average profit at \\\\$4,445,759 with the lowest loss of risk at 1.5%. On the other hand, Region 2 has the lowest average profit at \\\\$3,199,438 with the highest risk of loss at 13%."
   ]
  },
  {
   "cell_type": "markdown",
   "metadata": {},
   "source": [
    "## Conclusion\n",
    "\n",
    "We analyzed data given for the three regions based on volume of well reserves and profits each region would generate. Based on that, Region 1 is picked as the most suitable location as it yielded in the highest average profit of $4,445,759 with lowest risk of loss at 1.5%, and also high values within a 95% confidence interval."
   ]
  }
 ],
 "metadata": {
  "ExecuteTimeLog": [
   {
    "duration": 787,
    "start_time": "2024-11-20T06:48:33.112Z"
   },
   {
    "duration": 317,
    "start_time": "2024-11-20T06:49:35.295Z"
   },
   {
    "duration": 227,
    "start_time": "2024-11-20T06:50:24.242Z"
   },
   {
    "duration": 11,
    "start_time": "2024-11-20T06:50:45.396Z"
   },
   {
    "duration": 25,
    "start_time": "2024-11-20T06:51:02.716Z"
   },
   {
    "duration": 7,
    "start_time": "2024-11-20T06:51:25.389Z"
   },
   {
    "duration": 15,
    "start_time": "2024-11-20T06:51:40.352Z"
   },
   {
    "duration": 30,
    "start_time": "2024-11-20T06:52:08.286Z"
   },
   {
    "duration": 78,
    "start_time": "2024-11-20T06:52:21.205Z"
   },
   {
    "duration": 4,
    "start_time": "2024-11-20T06:59:51.580Z"
   },
   {
    "duration": 219,
    "start_time": "2024-11-20T07:01:17.351Z"
   },
   {
    "duration": 3,
    "start_time": "2024-11-20T07:01:28.463Z"
   },
   {
    "duration": 10,
    "start_time": "2024-11-20T07:01:28.956Z"
   },
   {
    "duration": 161,
    "start_time": "2024-11-20T09:38:14.120Z"
   },
   {
    "duration": 12,
    "start_time": "2024-11-20T09:38:26.043Z"
   },
   {
    "duration": 12,
    "start_time": "2024-11-20T09:38:26.443Z"
   },
   {
    "duration": 805,
    "start_time": "2024-11-20T09:38:31.264Z"
   },
   {
    "duration": 335,
    "start_time": "2024-11-20T09:38:32.071Z"
   },
   {
    "duration": 25,
    "start_time": "2024-11-20T09:38:32.408Z"
   },
   {
    "duration": 16,
    "start_time": "2024-11-20T09:38:32.792Z"
   },
   {
    "duration": 87,
    "start_time": "2024-11-20T09:38:33.503Z"
   },
   {
    "duration": 4,
    "start_time": "2024-11-20T09:38:35.129Z"
   },
   {
    "duration": 14,
    "start_time": "2024-11-20T09:38:35.829Z"
   },
   {
    "duration": 200,
    "start_time": "2024-11-20T09:38:36.604Z"
   },
   {
    "duration": 13,
    "start_time": "2024-11-20T09:38:37.323Z"
   },
   {
    "duration": 3,
    "start_time": "2024-11-20T09:39:22.033Z"
   },
   {
    "duration": 234,
    "start_time": "2024-11-20T09:39:22.698Z"
   },
   {
    "duration": 26,
    "start_time": "2024-11-20T09:39:23.441Z"
   },
   {
    "duration": 16,
    "start_time": "2024-11-20T09:39:24.235Z"
   },
   {
    "duration": 83,
    "start_time": "2024-11-20T09:39:25.125Z"
   },
   {
    "duration": 3,
    "start_time": "2024-11-20T09:39:27.512Z"
   },
   {
    "duration": 8,
    "start_time": "2024-11-20T09:39:29.678Z"
   },
   {
    "duration": 56,
    "start_time": "2024-11-20T09:39:30.740Z"
   },
   {
    "duration": 56,
    "start_time": "2024-11-20T09:39:38.695Z"
   },
   {
    "duration": 4,
    "start_time": "2024-11-20T09:45:02.344Z"
   },
   {
    "duration": 9,
    "start_time": "2024-11-20T09:45:02.690Z"
   },
   {
    "duration": 111,
    "start_time": "2024-11-20T09:45:03.341Z"
   },
   {
    "duration": 13,
    "start_time": "2024-11-20T09:45:04.231Z"
   },
   {
    "duration": 3,
    "start_time": "2024-11-20T09:47:31.975Z"
   },
   {
    "duration": 216,
    "start_time": "2024-11-20T09:47:32.372Z"
   },
   {
    "duration": 26,
    "start_time": "2024-11-20T09:47:32.773Z"
   },
   {
    "duration": 15,
    "start_time": "2024-11-20T09:47:33.117Z"
   },
   {
    "duration": 81,
    "start_time": "2024-11-20T09:47:33.497Z"
   },
   {
    "duration": 4,
    "start_time": "2024-11-20T09:47:34.225Z"
   },
   {
    "duration": 10,
    "start_time": "2024-11-20T09:47:35.170Z"
   },
   {
    "duration": 57,
    "start_time": "2024-11-20T09:47:35.971Z"
   },
   {
    "duration": 9,
    "start_time": "2024-11-20T09:59:01.636Z"
   },
   {
    "duration": 56,
    "start_time": "2024-11-20T09:59:02.110Z"
   },
   {
    "duration": 751,
    "start_time": "2024-11-20T20:28:08.786Z"
   },
   {
    "duration": 316,
    "start_time": "2024-11-20T20:28:14.034Z"
   },
   {
    "duration": 27,
    "start_time": "2024-11-20T20:28:15.346Z"
   },
   {
    "duration": 15,
    "start_time": "2024-11-20T20:28:16.130Z"
   },
   {
    "duration": 96,
    "start_time": "2024-11-20T20:28:16.895Z"
   },
   {
    "duration": 4,
    "start_time": "2024-11-20T20:28:18.445Z"
   },
   {
    "duration": 11,
    "start_time": "2024-11-20T20:28:26.990Z"
   },
   {
    "duration": 339,
    "start_time": "2024-11-20T20:28:28.074Z"
   },
   {
    "duration": 19,
    "start_time": "2024-11-20T20:28:55.624Z"
   },
   {
    "duration": 13,
    "start_time": "2024-11-20T20:29:06.977Z"
   },
   {
    "duration": 17,
    "start_time": "2024-11-20T20:29:30.290Z"
   },
   {
    "duration": 14,
    "start_time": "2024-11-20T20:29:41.925Z"
   },
   {
    "duration": 11,
    "start_time": "2024-11-20T20:29:54.409Z"
   },
   {
    "duration": 55,
    "start_time": "2024-11-20T20:29:55.223Z"
   },
   {
    "duration": 11,
    "start_time": "2024-11-20T20:30:27.619Z"
   },
   {
    "duration": 9,
    "start_time": "2024-11-20T20:30:32.024Z"
   },
   {
    "duration": 16,
    "start_time": "2024-11-20T20:30:34.755Z"
   },
   {
    "duration": 3,
    "start_time": "2024-11-20T20:30:53.177Z"
   },
   {
    "duration": 227,
    "start_time": "2024-11-20T20:30:53.392Z"
   },
   {
    "duration": 26,
    "start_time": "2024-11-20T20:30:53.620Z"
   },
   {
    "duration": 16,
    "start_time": "2024-11-20T20:30:53.733Z"
   },
   {
    "duration": 81,
    "start_time": "2024-11-20T20:30:53.909Z"
   },
   {
    "duration": 4,
    "start_time": "2024-11-20T20:30:54.242Z"
   },
   {
    "duration": 9,
    "start_time": "2024-11-20T20:30:54.414Z"
   },
   {
    "duration": 15,
    "start_time": "2024-11-20T20:30:54.573Z"
   },
   {
    "duration": 5,
    "start_time": "2024-11-20T20:30:54.889Z"
   },
   {
    "duration": 4,
    "start_time": "2024-11-20T20:31:55.663Z"
   },
   {
    "duration": 4,
    "start_time": "2024-11-20T20:32:00.140Z"
   },
   {
    "duration": 10,
    "start_time": "2024-11-20T20:35:56.094Z"
   },
   {
    "duration": 9,
    "start_time": "2024-11-20T20:37:46.521Z"
   },
   {
    "duration": 11,
    "start_time": "2024-11-20T20:38:21.981Z"
   },
   {
    "duration": 13,
    "start_time": "2024-11-20T20:38:54.913Z"
   },
   {
    "duration": 11,
    "start_time": "2024-11-20T20:38:55.735Z"
   },
   {
    "duration": 10,
    "start_time": "2024-11-20T20:38:56.089Z"
   },
   {
    "duration": 10,
    "start_time": "2024-11-20T20:39:33.596Z"
   },
   {
    "duration": 11,
    "start_time": "2024-11-20T20:40:12.073Z"
   },
   {
    "duration": 12,
    "start_time": "2024-11-20T20:40:20.089Z"
   },
   {
    "duration": 2,
    "start_time": "2024-11-20T21:03:01.854Z"
   },
   {
    "duration": 3,
    "start_time": "2024-11-20T21:07:53.963Z"
   },
   {
    "duration": 3,
    "start_time": "2024-11-20T21:07:59.332Z"
   },
   {
    "duration": 4,
    "start_time": "2024-11-20T21:11:15.485Z"
   },
   {
    "duration": 6,
    "start_time": "2024-11-20T21:12:32.173Z"
   },
   {
    "duration": 15,
    "start_time": "2024-11-20T22:18:29.694Z"
   },
   {
    "duration": 3,
    "start_time": "2024-11-20T22:18:34.101Z"
   },
   {
    "duration": 297,
    "start_time": "2024-11-20T22:18:34.491Z"
   },
   {
    "duration": 3,
    "start_time": "2024-11-20T22:19:28.118Z"
   },
   {
    "duration": 55,
    "start_time": "2024-11-20T22:19:28.345Z"
   },
   {
    "duration": 14,
    "start_time": "2024-11-20T22:21:49.034Z"
   },
   {
    "duration": 57,
    "start_time": "2024-11-20T22:21:49.636Z"
   },
   {
    "duration": 2,
    "start_time": "2024-11-20T22:22:32.414Z"
   },
   {
    "duration": 56,
    "start_time": "2024-11-20T22:22:34.143Z"
   },
   {
    "duration": 3,
    "start_time": "2024-11-20T22:34:44.491Z"
   },
   {
    "duration": 9,
    "start_time": "2024-11-20T22:34:47.141Z"
   },
   {
    "duration": 10,
    "start_time": "2024-11-20T22:36:15.485Z"
   },
   {
    "duration": 10,
    "start_time": "2024-11-20T22:36:43.453Z"
   },
   {
    "duration": 3,
    "start_time": "2024-11-20T22:37:27.818Z"
   },
   {
    "duration": 227,
    "start_time": "2024-11-20T22:37:28.054Z"
   },
   {
    "duration": 33,
    "start_time": "2024-11-20T22:37:28.283Z"
   },
   {
    "duration": 15,
    "start_time": "2024-11-20T22:37:28.478Z"
   },
   {
    "duration": 78,
    "start_time": "2024-11-20T22:37:28.658Z"
   },
   {
    "duration": 9,
    "start_time": "2024-11-20T22:37:29.202Z"
   },
   {
    "duration": 10,
    "start_time": "2024-11-20T22:37:29.389Z"
   },
   {
    "duration": 10,
    "start_time": "2024-11-20T22:37:29.975Z"
   },
   {
    "duration": 11,
    "start_time": "2024-11-20T22:37:30.208Z"
   },
   {
    "duration": 10,
    "start_time": "2024-11-20T22:37:30.760Z"
   },
   {
    "duration": 16,
    "start_time": "2024-11-20T22:37:30.962Z"
   },
   {
    "duration": 4,
    "start_time": "2024-11-20T22:37:31.855Z"
   },
   {
    "duration": 4,
    "start_time": "2024-11-20T22:37:32.831Z"
   },
   {
    "duration": 58,
    "start_time": "2024-11-20T22:40:47.641Z"
   },
   {
    "duration": 7443,
    "start_time": "2024-11-20T22:41:12.353Z"
   },
   {
    "duration": 7486,
    "start_time": "2024-11-20T22:41:52.405Z"
   },
   {
    "duration": 7412,
    "start_time": "2024-11-20T22:42:13.944Z"
   },
   {
    "duration": 6,
    "start_time": "2024-11-20T22:43:02.061Z"
   },
   {
    "duration": 223,
    "start_time": "2024-11-20T22:45:05.909Z"
   },
   {
    "duration": 26,
    "start_time": "2024-11-20T22:45:06.475Z"
   },
   {
    "duration": 18,
    "start_time": "2024-11-20T22:45:07.239Z"
   },
   {
    "duration": 83,
    "start_time": "2024-11-20T22:45:07.702Z"
   },
   {
    "duration": 10,
    "start_time": "2024-11-20T22:45:12.422Z"
   },
   {
    "duration": 166,
    "start_time": "2024-11-21T07:25:44.914Z"
   },
   {
    "duration": 16,
    "start_time": "2024-11-21T07:25:45.251Z"
   },
   {
    "duration": 728,
    "start_time": "2024-11-21T07:25:50.496Z"
   },
   {
    "duration": 311,
    "start_time": "2024-11-21T07:25:51.227Z"
   },
   {
    "duration": 26,
    "start_time": "2024-11-21T07:25:51.540Z"
   },
   {
    "duration": 15,
    "start_time": "2024-11-21T07:25:51.568Z"
   },
   {
    "duration": 88,
    "start_time": "2024-11-21T07:25:51.746Z"
   },
   {
    "duration": 11,
    "start_time": "2024-11-21T07:25:52.634Z"
   },
   {
    "duration": 19,
    "start_time": "2024-11-21T07:25:52.905Z"
   },
   {
    "duration": 12,
    "start_time": "2024-11-21T07:25:53.662Z"
   },
   {
    "duration": 11,
    "start_time": "2024-11-21T07:25:54.091Z"
   },
   {
    "duration": 13,
    "start_time": "2024-11-21T07:25:54.861Z"
   },
   {
    "duration": 10,
    "start_time": "2024-11-21T07:25:55.273Z"
   },
   {
    "duration": 6,
    "start_time": "2024-11-21T07:26:22.451Z"
   },
   {
    "duration": 3,
    "start_time": "2024-11-21T07:26:23.762Z"
   },
   {
    "duration": 10,
    "start_time": "2024-11-21T07:26:24.001Z"
   },
   {
    "duration": 7372,
    "start_time": "2024-11-21T07:26:27.269Z"
   },
   {
    "duration": 5,
    "start_time": "2024-11-21T07:26:34.644Z"
   },
   {
    "duration": 2,
    "start_time": "2024-11-21T07:58:24.185Z"
   },
   {
    "duration": 224,
    "start_time": "2024-11-21T07:58:24.571Z"
   },
   {
    "duration": 28,
    "start_time": "2024-11-21T07:58:24.902Z"
   },
   {
    "duration": 15,
    "start_time": "2024-11-21T07:58:25.385Z"
   },
   {
    "duration": 88,
    "start_time": "2024-11-21T07:58:26.091Z"
   },
   {
    "duration": 9,
    "start_time": "2024-11-21T07:58:28.317Z"
   },
   {
    "duration": 13,
    "start_time": "2024-11-21T07:59:41.991Z"
   },
   {
    "duration": 3,
    "start_time": "2024-11-21T08:03:59.160Z"
   },
   {
    "duration": 10,
    "start_time": "2024-11-21T08:03:59.466Z"
   },
   {
    "duration": 869,
    "start_time": "2024-11-21T08:39:57.120Z"
   },
   {
    "duration": 307,
    "start_time": "2024-11-21T08:39:57.991Z"
   },
   {
    "duration": 27,
    "start_time": "2024-11-21T08:39:58.300Z"
   },
   {
    "duration": 15,
    "start_time": "2024-11-21T08:39:58.329Z"
   },
   {
    "duration": 102,
    "start_time": "2024-11-21T08:39:58.347Z"
   },
   {
    "duration": 23,
    "start_time": "2024-11-21T08:39:58.451Z"
   },
   {
    "duration": 15,
    "start_time": "2024-11-21T08:39:58.476Z"
   },
   {
    "duration": 14,
    "start_time": "2024-11-21T08:39:58.492Z"
   },
   {
    "duration": 13,
    "start_time": "2024-11-21T08:39:58.571Z"
   },
   {
    "duration": 87,
    "start_time": "2024-11-21T08:39:58.586Z"
   },
   {
    "duration": 12,
    "start_time": "2024-11-21T08:39:58.675Z"
   },
   {
    "duration": 81,
    "start_time": "2024-11-21T08:39:58.689Z"
   },
   {
    "duration": 3,
    "start_time": "2024-11-21T08:39:58.772Z"
   },
   {
    "duration": 11,
    "start_time": "2024-11-21T08:39:58.778Z"
   },
   {
    "duration": 7411,
    "start_time": "2024-11-21T08:39:58.790Z"
   },
   {
    "duration": 6,
    "start_time": "2024-11-21T08:40:06.202Z"
   },
   {
    "duration": 5915,
    "start_time": "2024-11-21T08:40:15.853Z"
   },
   {
    "duration": 6,
    "start_time": "2024-11-21T08:40:21.770Z"
   },
   {
    "duration": 5886,
    "start_time": "2024-11-21T08:40:37.009Z"
   },
   {
    "duration": 6,
    "start_time": "2024-11-21T08:40:42.897Z"
   },
   {
    "duration": 558,
    "start_time": "2024-11-21T08:41:12.769Z"
   },
   {
    "duration": 6,
    "start_time": "2024-11-21T08:41:13.732Z"
   },
   {
    "duration": 5,
    "start_time": "2024-11-21T08:41:41.636Z"
   },
   {
    "duration": 5,
    "start_time": "2024-11-21T08:42:40.149Z"
   },
   {
    "duration": 7364,
    "start_time": "2024-11-21T08:42:43.529Z"
   },
   {
    "duration": 6,
    "start_time": "2024-11-21T08:42:50.895Z"
   },
   {
    "duration": 161,
    "start_time": "2024-11-23T00:25:17.469Z"
   },
   {
    "duration": 809,
    "start_time": "2024-11-23T00:25:23.030Z"
   },
   {
    "duration": 295,
    "start_time": "2024-11-23T00:25:23.841Z"
   },
   {
    "duration": 26,
    "start_time": "2024-11-23T00:25:24.137Z"
   },
   {
    "duration": 14,
    "start_time": "2024-11-23T00:25:24.166Z"
   },
   {
    "duration": 106,
    "start_time": "2024-11-23T00:25:24.182Z"
   },
   {
    "duration": 33,
    "start_time": "2024-11-23T00:25:24.290Z"
   },
   {
    "duration": 42,
    "start_time": "2024-11-23T00:28:44.106Z"
   },
   {
    "duration": 42,
    "start_time": "2024-11-23T00:29:06.240Z"
   },
   {
    "duration": 18,
    "start_time": "2024-11-23T00:29:23.788Z"
   },
   {
    "duration": 1859,
    "start_time": "2024-11-23T00:30:43.161Z"
   },
   {
    "duration": 231,
    "start_time": "2024-11-23T00:30:45.023Z"
   },
   {
    "duration": 107,
    "start_time": "2024-11-23T00:30:45.256Z"
   },
   {
    "duration": 16,
    "start_time": "2024-11-23T00:30:45.365Z"
   },
   {
    "duration": 100,
    "start_time": "2024-11-23T00:30:45.383Z"
   },
   {
    "duration": 35,
    "start_time": "2024-11-23T00:30:45.485Z"
   },
   {
    "duration": 41,
    "start_time": "2024-11-23T00:30:45.522Z"
   },
   {
    "duration": 17,
    "start_time": "2024-11-23T00:30:50.065Z"
   },
   {
    "duration": 6467,
    "start_time": "2024-11-23T00:35:14.461Z"
   },
   {
    "duration": 1538,
    "start_time": "2024-11-23T00:35:33.419Z"
   },
   {
    "duration": 707,
    "start_time": "2024-11-23T00:35:52.208Z"
   },
   {
    "duration": 520,
    "start_time": "2024-11-23T00:36:10.013Z"
   },
   {
    "duration": 713,
    "start_time": "2024-11-23T00:36:15.624Z"
   },
   {
    "duration": 666,
    "start_time": "2024-11-23T00:36:51.669Z"
   },
   {
    "duration": 987,
    "start_time": "2024-11-23T00:37:30.462Z"
   },
   {
    "duration": 885,
    "start_time": "2024-11-23T00:38:58.415Z"
   },
   {
    "duration": 143,
    "start_time": "2024-11-23T00:39:26.729Z"
   },
   {
    "duration": 189,
    "start_time": "2024-11-23T00:39:47.437Z"
   },
   {
    "duration": 190,
    "start_time": "2024-11-23T00:40:44.815Z"
   },
   {
    "duration": 177,
    "start_time": "2024-11-23T00:42:53.190Z"
   },
   {
    "duration": 201,
    "start_time": "2024-11-23T00:43:44.878Z"
   },
   {
    "duration": 199,
    "start_time": "2024-11-23T00:44:09.520Z"
   },
   {
    "duration": 189,
    "start_time": "2024-11-23T00:44:30.315Z"
   },
   {
    "duration": 193,
    "start_time": "2024-11-23T00:44:58.877Z"
   },
   {
    "duration": 187,
    "start_time": "2024-11-23T00:45:35.443Z"
   },
   {
    "duration": 16,
    "start_time": "2024-11-23T00:49:20.943Z"
   },
   {
    "duration": 10,
    "start_time": "2024-11-23T00:49:23.733Z"
   },
   {
    "duration": 19,
    "start_time": "2024-11-23T00:49:23.956Z"
   },
   {
    "duration": 11,
    "start_time": "2024-11-23T00:49:24.402Z"
   },
   {
    "duration": 14,
    "start_time": "2024-11-23T00:49:24.684Z"
   },
   {
    "duration": 9,
    "start_time": "2024-11-23T00:49:42.483Z"
   },
   {
    "duration": 15,
    "start_time": "2024-11-23T00:49:42.814Z"
   },
   {
    "duration": 11,
    "start_time": "2024-11-23T00:49:45.565Z"
   },
   {
    "duration": 10,
    "start_time": "2024-11-23T00:49:48.424Z"
   },
   {
    "duration": 11,
    "start_time": "2024-11-23T00:49:51.842Z"
   },
   {
    "duration": 10,
    "start_time": "2024-11-23T00:49:59.280Z"
   },
   {
    "duration": 3,
    "start_time": "2024-11-23T00:51:39.337Z"
   },
   {
    "duration": 195,
    "start_time": "2024-11-23T00:51:39.534Z"
   },
   {
    "duration": 28,
    "start_time": "2024-11-23T00:51:39.732Z"
   },
   {
    "duration": 15,
    "start_time": "2024-11-23T00:51:39.859Z"
   },
   {
    "duration": 79,
    "start_time": "2024-11-23T00:51:40.032Z"
   },
   {
    "duration": 26,
    "start_time": "2024-11-23T00:51:40.200Z"
   },
   {
    "duration": 38,
    "start_time": "2024-11-23T00:51:40.534Z"
   },
   {
    "duration": 18,
    "start_time": "2024-11-23T00:51:40.702Z"
   },
   {
    "duration": 189,
    "start_time": "2024-11-23T00:51:41.333Z"
   },
   {
    "duration": 573,
    "start_time": "2024-11-23T00:53:49.937Z"
   },
   {
    "duration": 571,
    "start_time": "2024-11-23T00:54:10.442Z"
   },
   {
    "duration": 8,
    "start_time": "2024-11-23T00:55:58.626Z"
   },
   {
    "duration": 9,
    "start_time": "2024-11-23T00:56:00.746Z"
   },
   {
    "duration": 10,
    "start_time": "2024-11-23T00:56:27.477Z"
   },
   {
    "duration": 9,
    "start_time": "2024-11-23T00:56:28.021Z"
   },
   {
    "duration": 9,
    "start_time": "2024-11-23T00:56:30.234Z"
   },
   {
    "duration": 10,
    "start_time": "2024-11-23T00:56:30.773Z"
   },
   {
    "duration": 4,
    "start_time": "2024-11-23T00:56:35.674Z"
   },
   {
    "duration": 4,
    "start_time": "2024-11-23T00:57:52.793Z"
   },
   {
    "duration": 3,
    "start_time": "2024-11-23T00:58:02.606Z"
   },
   {
    "duration": 4,
    "start_time": "2024-11-23T00:58:12.307Z"
   },
   {
    "duration": 3,
    "start_time": "2024-11-23T00:59:22.498Z"
   },
   {
    "duration": 5,
    "start_time": "2024-11-23T00:59:23.598Z"
   },
   {
    "duration": 26,
    "start_time": "2024-11-23T01:00:46.365Z"
   },
   {
    "duration": 16,
    "start_time": "2024-11-23T01:00:50.242Z"
   },
   {
    "duration": 30,
    "start_time": "2024-11-23T01:00:52.372Z"
   },
   {
    "duration": 3,
    "start_time": "2024-11-23T01:00:59.429Z"
   },
   {
    "duration": 10,
    "start_time": "2024-11-23T01:01:00.025Z"
   },
   {
    "duration": 3698,
    "start_time": "2024-11-23T01:01:02.142Z"
   },
   {
    "duration": 7,
    "start_time": "2024-11-23T01:01:05.842Z"
   },
   {
    "duration": 3698,
    "start_time": "2024-11-23T02:20:16.587Z"
   },
   {
    "duration": 5,
    "start_time": "2024-11-23T02:20:21.171Z"
   },
   {
    "duration": 3710,
    "start_time": "2024-11-23T02:21:17.479Z"
   },
   {
    "duration": 6,
    "start_time": "2024-11-23T02:21:21.191Z"
   },
   {
    "duration": 2821,
    "start_time": "2024-11-23T08:50:00.317Z"
   },
   {
    "duration": 304,
    "start_time": "2024-11-23T08:50:03.142Z"
   },
   {
    "duration": 28,
    "start_time": "2024-11-23T08:50:03.448Z"
   },
   {
    "duration": 14,
    "start_time": "2024-11-23T08:50:03.479Z"
   },
   {
    "duration": 107,
    "start_time": "2024-11-23T08:50:03.495Z"
   },
   {
    "duration": 23,
    "start_time": "2024-11-23T08:50:03.604Z"
   },
   {
    "duration": 57,
    "start_time": "2024-11-23T08:50:03.629Z"
   },
   {
    "duration": 21,
    "start_time": "2024-11-23T08:50:03.688Z"
   },
   {
    "duration": 631,
    "start_time": "2024-11-23T08:50:03.711Z"
   },
   {
    "duration": 13,
    "start_time": "2024-11-23T08:50:04.345Z"
   },
   {
    "duration": 9,
    "start_time": "2024-11-23T08:50:04.359Z"
   },
   {
    "duration": 16,
    "start_time": "2024-11-23T08:50:04.369Z"
   },
   {
    "duration": 16,
    "start_time": "2024-11-23T08:50:04.448Z"
   },
   {
    "duration": 81,
    "start_time": "2024-11-23T08:50:04.467Z"
   },
   {
    "duration": 9,
    "start_time": "2024-11-23T08:50:04.591Z"
   },
   {
    "duration": 11,
    "start_time": "2024-11-23T08:50:05.081Z"
   },
   {
    "duration": 12,
    "start_time": "2024-11-23T08:50:05.364Z"
   },
   {
    "duration": 3,
    "start_time": "2024-11-23T08:50:07.148Z"
   },
   {
    "duration": 4,
    "start_time": "2024-11-23T08:50:07.526Z"
   },
   {
    "duration": 3,
    "start_time": "2024-11-23T08:50:08.827Z"
   },
   {
    "duration": 10,
    "start_time": "2024-11-23T08:50:09.912Z"
   },
   {
    "duration": 308,
    "start_time": "2024-11-23T08:50:16.435Z"
   },
   {
    "duration": 5,
    "start_time": "2024-11-23T08:50:18.957Z"
   },
   {
    "duration": 591,
    "start_time": "2024-11-23T08:50:31.577Z"
   },
   {
    "duration": 6,
    "start_time": "2024-11-23T08:50:32.815Z"
   },
   {
    "duration": 2627,
    "start_time": "2024-11-23T19:12:38.900Z"
   },
   {
    "duration": 295,
    "start_time": "2024-11-23T19:12:41.530Z"
   },
   {
    "duration": 28,
    "start_time": "2024-11-23T19:12:41.827Z"
   },
   {
    "duration": 23,
    "start_time": "2024-11-23T19:12:41.858Z"
   },
   {
    "duration": 91,
    "start_time": "2024-11-23T19:12:41.883Z"
   },
   {
    "duration": 20,
    "start_time": "2024-11-23T19:12:41.976Z"
   },
   {
    "duration": 41,
    "start_time": "2024-11-23T19:12:41.997Z"
   },
   {
    "duration": 17,
    "start_time": "2024-11-23T19:12:42.085Z"
   },
   {
    "duration": 581,
    "start_time": "2024-11-23T19:12:42.655Z"
   },
   {
    "duration": 11,
    "start_time": "2024-11-23T19:12:43.838Z"
   },
   {
    "duration": 9,
    "start_time": "2024-11-23T19:12:44.065Z"
   },
   {
    "duration": 25,
    "start_time": "2024-11-23T19:12:44.297Z"
   },
   {
    "duration": 11,
    "start_time": "2024-11-23T19:12:45.372Z"
   },
   {
    "duration": 8,
    "start_time": "2024-11-23T19:12:46.158Z"
   },
   {
    "duration": 9,
    "start_time": "2024-11-23T19:12:46.463Z"
   },
   {
    "duration": 11,
    "start_time": "2024-11-23T19:12:47.289Z"
   },
   {
    "duration": 11,
    "start_time": "2024-11-23T19:12:48.161Z"
   },
   {
    "duration": 3,
    "start_time": "2024-11-23T19:12:52.471Z"
   },
   {
    "duration": 4,
    "start_time": "2024-11-23T19:12:52.811Z"
   },
   {
    "duration": 3,
    "start_time": "2024-11-23T19:12:53.965Z"
   },
   {
    "duration": 10,
    "start_time": "2024-11-23T19:12:54.442Z"
   },
   {
    "duration": 581,
    "start_time": "2024-11-23T19:12:55.874Z"
   },
   {
    "duration": 13,
    "start_time": "2024-11-23T19:12:56.457Z"
   }
  ],
  "kernelspec": {
   "display_name": "Python 3 (ipykernel)",
   "language": "python",
   "name": "python3"
  },
  "language_info": {
   "codemirror_mode": {
    "name": "ipython",
    "version": 3
   },
   "file_extension": ".py",
   "mimetype": "text/x-python",
   "name": "python",
   "nbconvert_exporter": "python",
   "pygments_lexer": "ipython3",
   "version": "3.9.19"
  },
  "toc": {
   "base_numbering": 1,
   "nav_menu": {},
   "number_sections": true,
   "sideBar": true,
   "skip_h1_title": true,
   "title_cell": "Table of Contents",
   "title_sidebar": "Contents",
   "toc_cell": false,
   "toc_position": {
    "height": "calc(100% - 180px)",
    "left": "10px",
    "top": "150px",
    "width": "242.6px"
   },
   "toc_section_display": true,
   "toc_window_display": true
  }
 },
 "nbformat": 4,
 "nbformat_minor": 2
}
